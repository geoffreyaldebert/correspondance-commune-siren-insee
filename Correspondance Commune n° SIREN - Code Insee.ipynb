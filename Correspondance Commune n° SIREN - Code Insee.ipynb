{
 "cells": [
  {
   "cell_type": "markdown",
   "id": "4c7375d0",
   "metadata": {},
   "source": [
    "Les données se trouvent ici : https://www.banatic.interieur.gouv.fr/V5/cartographie/cartographie.php#dial_carte  (lien \"Table de correspondance code SIREN / Code Insee des communes\" sur le côté gauche dans les documents associés)."
   ]
  },
  {
   "cell_type": "code",
   "execution_count": 1,
   "id": "db434b55",
   "metadata": {},
   "outputs": [
    {
     "name": "stdout",
     "output_type": "stream",
     "text": [
      "--2022-08-31 11:03:09--  https://www.banatic.interieur.gouv.fr/V5/ressources/documents/document_reference/TableCorrespondanceSirenInsee.zip\n",
      "Résolution de www.banatic.interieur.gouv.fr (www.banatic.interieur.gouv.fr)… 143.196.253.49\n",
      "Connexion à www.banatic.interieur.gouv.fr (www.banatic.interieur.gouv.fr)|143.196.253.49|:443… connecté.\n",
      "requête HTTP transmise, en attente de la réponse… 200 OK\n",
      "Taille : 22673348 (22M) [application/zip]\n",
      "Sauvegarde en : « TableCorrespondanceSirenInsee.zip »\n",
      "\n",
      "TableCorrespondance 100%[===================>]  21,62M  7,03MB/s    ds 3,1s    \n",
      "\n",
      "2022-08-31 11:03:13 (7,03 MB/s) — « TableCorrespondanceSirenInsee.zip » sauvegardé [22673348/22673348]\n",
      "\n"
     ]
    }
   ],
   "source": [
    "!wget https://www.banatic.interieur.gouv.fr/V5/ressources/documents/document_reference/TableCorrespondanceSirenInsee.zip"
   ]
  },
  {
   "cell_type": "code",
   "execution_count": 14,
   "id": "c6a04be3",
   "metadata": {},
   "outputs": [
    {
     "name": "stdout",
     "output_type": "stream",
     "text": [
      "Archive:  TableCorrespondanceSirenInsee.zip\n",
      "  inflating: Banatic_SirenInsee2007.xlsx  \n",
      "  inflating: Banatic_SirenInsee2008.xlsx  \n",
      "  inflating: Banatic_SirenInsee2009.xlsx  \n",
      "  inflating: Banatic_SirenInsee2010.xlsx  \n",
      "  inflating: Banatic_SirenInsee2011.xlsx  \n",
      "  inflating: Banatic_SirenInsee2012.xlsx  \n",
      "  inflating: Banatic_SirenInsee2013.xlsx  \n",
      "replace Banatic_SirenInsee2014.xls? [y]es, [n]o, [A]ll, [N]one, [r]ename: ^C\n"
     ]
    }
   ],
   "source": [
    "!unzip TableCorrespondanceSirenInsee.zip"
   ]
  },
  {
   "cell_type": "code",
   "execution_count": 6,
   "id": "54235a44",
   "metadata": {},
   "outputs": [],
   "source": [
    "import pandas as pd"
   ]
  },
  {
   "cell_type": "code",
   "execution_count": 7,
   "id": "06616eed",
   "metadata": {},
   "outputs": [],
   "source": [
    "df = pd.read_excel('Banatic_SirenInsee2022.xlsx',dtype=str)"
   ]
  },
  {
   "cell_type": "code",
   "execution_count": 9,
   "id": "3ae1a97f",
   "metadata": {},
   "outputs": [],
   "source": [
    "df = df[['siren', 'insee']]"
   ]
  },
  {
   "cell_type": "code",
   "execution_count": 11,
   "id": "5aad0594",
   "metadata": {},
   "outputs": [],
   "source": [
    "df.to_csv('correspondance-commune-code-insee-siren.csv',index=False)"
   ]
  },
  {
   "cell_type": "code",
   "execution_count": 15,
   "id": "29f65a76",
   "metadata": {},
   "outputs": [
    {
     "name": "stdout",
     "output_type": "stream",
     "text": [
      "Banatic_SirenInsee2007.xlsx\r\n",
      "Banatic_SirenInsee2008.xlsx\r\n",
      "Banatic_SirenInsee2009.xlsx\r\n",
      "Banatic_SirenInsee2010.xlsx\r\n",
      "Banatic_SirenInsee2011.xlsx\r\n",
      "Banatic_SirenInsee2012.xlsx\r\n",
      "Banatic_SirenInsee2013.xlsx\r\n",
      "Banatic_SirenInsee2014.xls\r\n",
      "Banatic_SirenInsee2015.xls\r\n",
      "Banatic_SirenInsee2016.xls\r\n",
      "Banatic_SirenInsee2017.xls\r\n",
      "Banatic_SirenInsee2018.xls\r\n",
      "Correspondance Commune n° SIREN - Code Insee.ipynb\r\n",
      "TableCorrespondanceSirenInsee.zip\r\n",
      "correspondance-commune-code-insee-siren.csv\r\n"
     ]
    }
   ],
   "source": [
    "!ls"
   ]
  },
  {
   "cell_type": "code",
   "execution_count": null,
   "id": "a25fb2c1",
   "metadata": {},
   "outputs": [],
   "source": []
  }
 ],
 "metadata": {
  "kernelspec": {
   "display_name": "Python 3 (ipykernel)",
   "language": "python",
   "name": "python3"
  },
  "language_info": {
   "codemirror_mode": {
    "name": "ipython",
    "version": 3
   },
   "file_extension": ".py",
   "mimetype": "text/x-python",
   "name": "python",
   "nbconvert_exporter": "python",
   "pygments_lexer": "ipython3",
   "version": "3.8.12"
  }
 },
 "nbformat": 4,
 "nbformat_minor": 5
}
